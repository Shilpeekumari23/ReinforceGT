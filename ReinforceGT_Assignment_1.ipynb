{
  "nbformat": 4,
  "nbformat_minor": 0,
  "metadata": {
    "colab": {
      "provenance": []
    },
    "kernelspec": {
      "name": "python3",
      "display_name": "Python 3"
    },
    "language_info": {
      "name": "python"
    }
  },
  "cells": [
    {
      "cell_type": "markdown",
      "source": [
        "# Question 1 (40 points)– Pure Nash Equilibrium Checker"
      ],
      "metadata": {
        "id": "uq0Fi77gce3r"
      }
    },
    {
      "cell_type": "code",
      "source": [
        "# Define strategies and payoff matrix\n",
        "payoffs = {\n",
        "    ('C', 'C'): (3, 3),\n",
        "    ('C', 'D'): (0, 5),\n",
        "    ('D', 'C'): (5, 0),\n",
        "    ('D', 'D'): (1, 1)\n",
        "}\n",
        "strategies = ['C', 'D']\n",
        "\n",
        "# Function to check Pure Nash Equilibrium\n",
        "def is_pure_nash(p1, p2):\n",
        "    p1_payoff, p2_payoff = payoffs[(p1, p2)]\n",
        "    for alt1 in strategies:\n",
        "        if alt1 != p1 and payoffs[(alt1, p2)][0] > p1_payoff:\n",
        "            return False\n",
        "    for alt2 in strategies:\n",
        "        if alt2 != p2 and payoffs[(p1, alt2)][1] > p2_payoff:\n",
        "            return False\n",
        "    return True\n",
        "\n",
        "# Take input\n",
        "inp = input(\"Enter strategy profile (e.g. C,D): \").strip().upper().replace(\"(\", \"\").replace(\")\", \"\")\n",
        "try:\n",
        "    p1, p2 = map(str.strip, inp.split(\",\"))\n",
        "    if (p1, p2) in payoffs:\n",
        "        result = is_pure_nash(p1, p2)\n",
        "        print(f\"{'✅' if result else '❌'} The profile ({p1}, {p2}) is{' ' if result else ' NOT '}a Pure Nash Equilibrium.\")\n",
        "    else:\n",
        "        print(\"❌ Invalid input. Use only C or D.\")\n",
        "except:\n",
        "    print(\"❌ Format error. Please enter like C,D\")\n"
      ],
      "metadata": {
        "colab": {
          "base_uri": "https://localhost:8080/"
        },
        "id": "_yxzqkWnHjX7",
        "outputId": "90a3dd8f-47a6-4439-9666-5a5eb3ff403e"
      },
      "execution_count": null,
      "outputs": [
        {
          "output_type": "stream",
          "name": "stdout",
          "text": [
            "Enter strategy profile (e.g. C,D): c,d\n",
            "❌ The profile (C, D) is NOT a Pure Nash Equilibrium.\n"
          ]
        }
      ]
    },
    {
      "cell_type": "markdown",
      "source": [
        "# Question 2 (30 points)– Best Response Calculator"
      ],
      "metadata": {
        "id": "5ulFV-ihcjij"
      }
    },
    {
      "cell_type": "code",
      "source": [
        "def best_response(payoff_matrix, player, opponent_action):\n",
        "    \"\"\"\n",
        "    Returns the set of best responses for the given player,\n",
        "    assuming the opponent plays the given action.\n",
        "\n",
        "    Parameters:\n",
        "    - payoff_matrix: dict of dicts with payoff tuples.\n",
        "    - player: 1 or 2\n",
        "    - opponent_action: action of the opponent\n",
        "\n",
        "    Returns:\n",
        "    - Set of best response actions (strings)\n",
        "    \"\"\"\n",
        "\n",
        "    if player == 1:\n",
        "        # Player 1's actions are outer keys\n",
        "        best_actions = set()\n",
        "        max_payoff = float('-inf')\n",
        "        for action in payoff_matrix:\n",
        "            if opponent_action not in payoff_matrix[action]:\n",
        "                continue\n",
        "            payoff = payoff_matrix[action][opponent_action][0]  # Player 1's payoff\n",
        "            if payoff > max_payoff:\n",
        "                max_payoff = payoff\n",
        "                best_actions = {action}\n",
        "            elif payoff == max_payoff:\n",
        "                best_actions.add(action)\n",
        "        return best_actions\n",
        "\n",
        "    elif player == 2:\n",
        "        # Get any one outer key to iterate over Player 2's actions\n",
        "        outer_key = next(iter(payoff_matrix))\n",
        "        best_actions = set()\n",
        "        max_payoff = float('-inf')\n",
        "        for action in payoff_matrix[outer_key]:\n",
        "            if opponent_action not in payoff_matrix:\n",
        "                continue\n",
        "            if action not in payoff_matrix[opponent_action]:\n",
        "                continue\n",
        "            payoff = payoff_matrix[opponent_action][action][1]  # Player 2's payoff\n",
        "            if payoff > max_payoff:\n",
        "                max_payoff = payoff\n",
        "                best_actions = {action}\n",
        "            elif payoff == max_payoff:\n",
        "                best_actions.add(action)\n",
        "        return best_actions\n",
        "\n",
        "    else:\n",
        "        raise ValueError(\"Player must be 1 or 2\")\n"
      ],
      "metadata": {
        "id": "24nWNVvSagDx"
      },
      "execution_count": null,
      "outputs": []
    },
    {
      "cell_type": "code",
      "source": [
        "payoff_matrix = {\n",
        "    'Bach': {\n",
        "        'Bach': (2, 1),\n",
        "        'Stravinsky': (0, 0)\n",
        "    },\n",
        "    'Stravinsky': {\n",
        "        'Bach': (0, 0),\n",
        "        'Stravinsky': (1, 2)\n",
        "    }\n",
        "}\n"
      ],
      "metadata": {
        "id": "cASQ7ppXbhF9"
      },
      "execution_count": null,
      "outputs": []
    },
    {
      "cell_type": "code",
      "source": [
        "print(best_response(payoff_matrix, 1, 'Bach'))  # Output: {'Bach'}\n"
      ],
      "metadata": {
        "colab": {
          "base_uri": "https://localhost:8080/"
        },
        "id": "EwHtqKlibrKn",
        "outputId": "4b4ad80a-c5b4-461c-e2ad-377463ed852c"
      },
      "execution_count": null,
      "outputs": [
        {
          "output_type": "stream",
          "name": "stdout",
          "text": [
            "{'Bach'}\n"
          ]
        }
      ]
    }
  ]
}